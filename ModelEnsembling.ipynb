{
  "cells": [
    {
      "cell_type": "code",
      "execution_count": null,
      "metadata": {
        "id": "eMzd6jIkj-ch"
      },
      "outputs": [],
      "source": [
        "from sklearn.ensemble import VotingClassifier\n",
        "from keras.wrappers.scikit_learn import KerasClassifier\n",
        "from sklearn.metrics import accuracy_score, classification_report\n",
        "from sklearn.preprocessing import LabelEncoder"
      ]
    },
    {
      "cell_type": "code",
      "execution_count": null,
      "metadata": {
        "colab": {
          "base_uri": "https://localhost:8080/"
        },
        "id": "a1p9ibKwmACZ",
        "outputId": "c3a08b83-ab0f-46ca-83d0-fb459cf7ecf0"
      },
      "outputs": [
        {
          "name": "stdout",
          "output_type": "stream",
          "text": [
            "Mounted at /content/drive\n"
          ]
        }
      ],
      "source": [
        "from google.colab import drive\n",
        "\n",
        "# Mount Google Drive\n",
        "drive.mount('/content/drive')\n"
      ]
    },
    {
      "cell_type": "code",
      "execution_count": null,
      "metadata": {
        "id": "xDBztE9mlew3"
      },
      "outputs": [],
      "source": [
        "from sklearn.ensemble import VotingClassifier\n",
        "# from keras.models import load_model\n",
        "import joblib\n",
        "\n",
        "svm_model_path = '/content/drive/MyDrive/Colab Notebooks/svm_model.pkl'\n",
        "nb_model_path = '/content/drive/MyDrive/Colab Notebooks/nb_model.pkl'\n",
        "\n",
        "# Load the SVM and Naive Bayes models from the files in your Google Drive\n",
        "svm_model = joblib.load(svm_model_path)\n",
        "naive_bayes_model = joblib.load(nb_model_path)\n"
      ]
    },
    {
      "cell_type": "code",
      "execution_count": null,
      "metadata": {
        "colab": {
          "base_uri": "https://localhost:8080/"
        },
        "id": "AK51F1_K32Ut",
        "outputId": "c555a62c-23db-45ec-8918-03f8b23804c3"
      },
      "outputs": [
        {
          "name": "stdout",
          "output_type": "stream",
          "text": [
            "                                                    text tts-speech\n",
            "0      {'eng': 'It was not a ghost refugee camp.', 'l...        NaN\n",
            "1      {'eng': 'I want to go to town over the weekend...        NaN\n",
            "2      {'eng': 'I have high blood pressure.', 'lug': ...        NaN\n",
            "3      {'eng': 'You need to have priorities in life.'...        NaN\n",
            "4      {'eng': 'It's a good practice to help those in...        NaN\n",
            "...                                                  ...        ...\n",
            "23942  {'eng': 'It has all happened in the intervenin...        NaN\n",
            "23943  {'eng': 'Many people have recovered from coron...        NaN\n",
            "23944  {'eng': 'The government will provide support t...        NaN\n",
            "23945  {'eng': 'There are many things that we need to...        NaN\n",
            "23946  {'eng': 'The incumbent is worried about the in...        NaN\n",
            "\n",
            "[23947 rows x 2 columns]\n"
          ]
        }
      ],
      "source": [
        "import pandas as pd\n",
        "\n",
        "# Load JSON data from the URL into a DataFrame\n",
        "url = 'https://raw.githubusercontent.com/SunbirdAI/salt/main/v1.2/salt-train-v1.2.jsonl'\n",
        "df = pd.read_json(url, lines=True)\n",
        "\n",
        "# Display the DataFrame\n",
        "print(df)\n"
      ]
    },
    {
      "cell_type": "code",
      "execution_count": null,
      "metadata": {
        "colab": {
          "base_uri": "https://localhost:8080/"
        },
        "id": "zEPZnvtm6XFK",
        "outputId": "e8b334dd-a36e-4371-aeba-3220559d54d6"
      },
      "outputs": [
        {
          "name": "stdout",
          "output_type": "stream",
          "text": [
            "0        {'eng': 'It was not a ghost refugee camp.', 'l...\n",
            "1        {'eng': 'I want to go to town over the weekend...\n",
            "2        {'eng': 'I have high blood pressure.', 'lug': ...\n",
            "3        {'eng': 'You need to have priorities in life.'...\n",
            "4        {'eng': 'It's a good practice to help those in...\n",
            "                               ...                        \n",
            "23942    {'eng': 'It has all happened in the intervenin...\n",
            "23943    {'eng': 'Many people have recovered from coron...\n",
            "23944    {'eng': 'The government will provide support t...\n",
            "23945    {'eng': 'There are many things that we need to...\n",
            "23946    {'eng': 'The incumbent is worried about the in...\n",
            "Name: text, Length: 23947, dtype: object\n"
          ]
        }
      ],
      "source": [
        "text_column = df['text']\n",
        "print(text_column)"
      ]
    },
    {
      "cell_type": "code",
      "execution_count": null,
      "metadata": {
        "id": "82iea8GG6s-3"
      },
      "outputs": [],
      "source": [
        "# Drop the 'tts-speech' column\n",
        "df.drop('tts-speech', axis=1, inplace=True)"
      ]
    },
    {
      "cell_type": "code",
      "execution_count": null,
      "metadata": {
        "colab": {
          "base_uri": "https://localhost:8080/",
          "height": 424
        },
        "id": "BYthUGvE6upD",
        "outputId": "f339b7cf-9dbf-41c3-c2ff-8691f2c5bcaa"
      },
      "outputs": [
        {
          "data": {
            "text/html": [
              "\n",
              "\n",
              "  <div id=\"df-d7e38ba6-a180-4c4c-97c3-5f9e38551dc4\">\n",
              "    <div class=\"colab-df-container\">\n",
              "      <div>\n",
              "<style scoped>\n",
              "    .dataframe tbody tr th:only-of-type {\n",
              "        vertical-align: middle;\n",
              "    }\n",
              "\n",
              "    .dataframe tbody tr th {\n",
              "        vertical-align: top;\n",
              "    }\n",
              "\n",
              "    .dataframe thead th {\n",
              "        text-align: right;\n",
              "    }\n",
              "</style>\n",
              "<table border=\"1\" class=\"dataframe\">\n",
              "  <thead>\n",
              "    <tr style=\"text-align: right;\">\n",
              "      <th></th>\n",
              "      <th>text</th>\n",
              "    </tr>\n",
              "  </thead>\n",
              "  <tbody>\n",
              "    <tr>\n",
              "      <th>0</th>\n",
              "      <td>{'eng': 'It was not a ghost refugee camp.', 'l...</td>\n",
              "    </tr>\n",
              "    <tr>\n",
              "      <th>1</th>\n",
              "      <td>{'eng': 'I want to go to town over the weekend...</td>\n",
              "    </tr>\n",
              "    <tr>\n",
              "      <th>2</th>\n",
              "      <td>{'eng': 'I have high blood pressure.', 'lug': ...</td>\n",
              "    </tr>\n",
              "    <tr>\n",
              "      <th>3</th>\n",
              "      <td>{'eng': 'You need to have priorities in life.'...</td>\n",
              "    </tr>\n",
              "    <tr>\n",
              "      <th>4</th>\n",
              "      <td>{'eng': 'It's a good practice to help those in...</td>\n",
              "    </tr>\n",
              "    <tr>\n",
              "      <th>...</th>\n",
              "      <td>...</td>\n",
              "    </tr>\n",
              "    <tr>\n",
              "      <th>23942</th>\n",
              "      <td>{'eng': 'It has all happened in the intervenin...</td>\n",
              "    </tr>\n",
              "    <tr>\n",
              "      <th>23943</th>\n",
              "      <td>{'eng': 'Many people have recovered from coron...</td>\n",
              "    </tr>\n",
              "    <tr>\n",
              "      <th>23944</th>\n",
              "      <td>{'eng': 'The government will provide support t...</td>\n",
              "    </tr>\n",
              "    <tr>\n",
              "      <th>23945</th>\n",
              "      <td>{'eng': 'There are many things that we need to...</td>\n",
              "    </tr>\n",
              "    <tr>\n",
              "      <th>23946</th>\n",
              "      <td>{'eng': 'The incumbent is worried about the in...</td>\n",
              "    </tr>\n",
              "  </tbody>\n",
              "</table>\n",
              "<p>23947 rows × 1 columns</p>\n",
              "</div>\n",
              "      <button class=\"colab-df-convert\" onclick=\"convertToInteractive('df-d7e38ba6-a180-4c4c-97c3-5f9e38551dc4')\"\n",
              "              title=\"Convert this dataframe to an interactive table.\"\n",
              "              style=\"display:none;\">\n",
              "\n",
              "  <svg xmlns=\"http://www.w3.org/2000/svg\" height=\"24px\"viewBox=\"0 0 24 24\"\n",
              "       width=\"24px\">\n",
              "    <path d=\"M0 0h24v24H0V0z\" fill=\"none\"/>\n",
              "    <path d=\"M18.56 5.44l.94 2.06.94-2.06 2.06-.94-2.06-.94-.94-2.06-.94 2.06-2.06.94zm-11 1L8.5 8.5l.94-2.06 2.06-.94-2.06-.94L8.5 2.5l-.94 2.06-2.06.94zm10 10l.94 2.06.94-2.06 2.06-.94-2.06-.94-.94-2.06-.94 2.06-2.06.94z\"/><path d=\"M17.41 7.96l-1.37-1.37c-.4-.4-.92-.59-1.43-.59-.52 0-1.04.2-1.43.59L10.3 9.45l-7.72 7.72c-.78.78-.78 2.05 0 2.83L4 21.41c.39.39.9.59 1.41.59.51 0 1.02-.2 1.41-.59l7.78-7.78 2.81-2.81c.8-.78.8-2.07 0-2.86zM5.41 20L4 18.59l7.72-7.72 1.47 1.35L5.41 20z\"/>\n",
              "  </svg>\n",
              "      </button>\n",
              "\n",
              "\n",
              "\n",
              "    <div id=\"df-390c4829-0142-4ac2-83ed-9e7cf869819b\">\n",
              "      <button class=\"colab-df-quickchart\" onclick=\"quickchart('df-390c4829-0142-4ac2-83ed-9e7cf869819b')\"\n",
              "              title=\"Suggest charts.\"\n",
              "              style=\"display:none;\">\n",
              "\n",
              "<svg xmlns=\"http://www.w3.org/2000/svg\" height=\"24px\"viewBox=\"0 0 24 24\"\n",
              "     width=\"24px\">\n",
              "    <g>\n",
              "        <path d=\"M19 3H5c-1.1 0-2 .9-2 2v14c0 1.1.9 2 2 2h14c1.1 0 2-.9 2-2V5c0-1.1-.9-2-2-2zM9 17H7v-7h2v7zm4 0h-2V7h2v10zm4 0h-2v-4h2v4z\"/>\n",
              "    </g>\n",
              "</svg>\n",
              "      </button>\n",
              "    </div>\n",
              "\n",
              "<style>\n",
              "  .colab-df-quickchart {\n",
              "    background-color: #E8F0FE;\n",
              "    border: none;\n",
              "    border-radius: 50%;\n",
              "    cursor: pointer;\n",
              "    display: none;\n",
              "    fill: #1967D2;\n",
              "    height: 32px;\n",
              "    padding: 0 0 0 0;\n",
              "    width: 32px;\n",
              "  }\n",
              "\n",
              "  .colab-df-quickchart:hover {\n",
              "    background-color: #E2EBFA;\n",
              "    box-shadow: 0px 1px 2px rgba(60, 64, 67, 0.3), 0px 1px 3px 1px rgba(60, 64, 67, 0.15);\n",
              "    fill: #174EA6;\n",
              "  }\n",
              "\n",
              "  [theme=dark] .colab-df-quickchart {\n",
              "    background-color: #3B4455;\n",
              "    fill: #D2E3FC;\n",
              "  }\n",
              "\n",
              "  [theme=dark] .colab-df-quickchart:hover {\n",
              "    background-color: #434B5C;\n",
              "    box-shadow: 0px 1px 3px 1px rgba(0, 0, 0, 0.15);\n",
              "    filter: drop-shadow(0px 1px 2px rgba(0, 0, 0, 0.3));\n",
              "    fill: #FFFFFF;\n",
              "  }\n",
              "</style>\n",
              "\n",
              "    <script>\n",
              "      async function quickchart(key) {\n",
              "        const containerElement = document.querySelector('#' + key);\n",
              "        const charts = await google.colab.kernel.invokeFunction(\n",
              "            'suggestCharts', [key], {});\n",
              "      }\n",
              "    </script>\n",
              "\n",
              "      <script>\n",
              "\n",
              "function displayQuickchartButton(domScope) {\n",
              "  let quickchartButtonEl =\n",
              "    domScope.querySelector('#df-390c4829-0142-4ac2-83ed-9e7cf869819b button.colab-df-quickchart');\n",
              "  quickchartButtonEl.style.display =\n",
              "    google.colab.kernel.accessAllowed ? 'block' : 'none';\n",
              "}\n",
              "\n",
              "        displayQuickchartButton(document);\n",
              "      </script>\n",
              "      <style>\n",
              "    .colab-df-container {\n",
              "      display:flex;\n",
              "      flex-wrap:wrap;\n",
              "      gap: 12px;\n",
              "    }\n",
              "\n",
              "    .colab-df-convert {\n",
              "      background-color: #E8F0FE;\n",
              "      border: none;\n",
              "      border-radius: 50%;\n",
              "      cursor: pointer;\n",
              "      display: none;\n",
              "      fill: #1967D2;\n",
              "      height: 32px;\n",
              "      padding: 0 0 0 0;\n",
              "      width: 32px;\n",
              "    }\n",
              "\n",
              "    .colab-df-convert:hover {\n",
              "      background-color: #E2EBFA;\n",
              "      box-shadow: 0px 1px 2px rgba(60, 64, 67, 0.3), 0px 1px 3px 1px rgba(60, 64, 67, 0.15);\n",
              "      fill: #174EA6;\n",
              "    }\n",
              "\n",
              "    [theme=dark] .colab-df-convert {\n",
              "      background-color: #3B4455;\n",
              "      fill: #D2E3FC;\n",
              "    }\n",
              "\n",
              "    [theme=dark] .colab-df-convert:hover {\n",
              "      background-color: #434B5C;\n",
              "      box-shadow: 0px 1px 3px 1px rgba(0, 0, 0, 0.15);\n",
              "      filter: drop-shadow(0px 1px 2px rgba(0, 0, 0, 0.3));\n",
              "      fill: #FFFFFF;\n",
              "    }\n",
              "  </style>\n",
              "\n",
              "      <script>\n",
              "        const buttonEl =\n",
              "          document.querySelector('#df-d7e38ba6-a180-4c4c-97c3-5f9e38551dc4 button.colab-df-convert');\n",
              "        buttonEl.style.display =\n",
              "          google.colab.kernel.accessAllowed ? 'block' : 'none';\n",
              "\n",
              "        async function convertToInteractive(key) {\n",
              "          const element = document.querySelector('#df-d7e38ba6-a180-4c4c-97c3-5f9e38551dc4');\n",
              "          const dataTable =\n",
              "            await google.colab.kernel.invokeFunction('convertToInteractive',\n",
              "                                                     [key], {});\n",
              "          if (!dataTable) return;\n",
              "\n",
              "          const docLinkHtml = 'Like what you see? Visit the ' +\n",
              "            '<a target=\"_blank\" href=https://colab.research.google.com/notebooks/data_table.ipynb>data table notebook</a>'\n",
              "            + ' to learn more about interactive tables.';\n",
              "          element.innerHTML = '';\n",
              "          dataTable['output_type'] = 'display_data';\n",
              "          await google.colab.output.renderOutput(dataTable, element);\n",
              "          const docLink = document.createElement('div');\n",
              "          docLink.innerHTML = docLinkHtml;\n",
              "          element.appendChild(docLink);\n",
              "        }\n",
              "      </script>\n",
              "    </div>\n",
              "  </div>\n"
            ],
            "text/plain": [
              "                                                    text\n",
              "0      {'eng': 'It was not a ghost refugee camp.', 'l...\n",
              "1      {'eng': 'I want to go to town over the weekend...\n",
              "2      {'eng': 'I have high blood pressure.', 'lug': ...\n",
              "3      {'eng': 'You need to have priorities in life.'...\n",
              "4      {'eng': 'It's a good practice to help those in...\n",
              "...                                                  ...\n",
              "23942  {'eng': 'It has all happened in the intervenin...\n",
              "23943  {'eng': 'Many people have recovered from coron...\n",
              "23944  {'eng': 'The government will provide support t...\n",
              "23945  {'eng': 'There are many things that we need to...\n",
              "23946  {'eng': 'The incumbent is worried about the in...\n",
              "\n",
              "[23947 rows x 1 columns]"
            ]
          },
          "execution_count": 7,
          "metadata": {},
          "output_type": "execute_result"
        }
      ],
      "source": [
        "df"
      ]
    },
    {
      "cell_type": "code",
      "execution_count": null,
      "metadata": {
        "colab": {
          "base_uri": "https://localhost:8080/"
        },
        "id": "vx8eRLfv7GML",
        "outputId": "e4484739-2629-48fb-8a60-5d46dcdd5174"
      },
      "outputs": [
        {
          "name": "stdout",
          "output_type": "stream",
          "text": [
            "       Language                                               Text\n",
            "0           eng                   It was not a ghost refugee camp.\n",
            "1           lug  Enkambi y'abanoonyiboobubudamu teyaliiwo mu bu...\n",
            "2           ach                             Pe obedo kem goba goba\n",
            "3           teo                      Mam arai ekabi lo erai ekwam.\n",
            "4           lgg  Eri aa'ni ndra kembe emunyale eyini aa'zu inzo...\n",
            "...         ...                                                ...\n",
            "143677      lug  Omukulembeze aliko mweraliikirivu ku muwendo g...\n",
            "143678      ach  Ngat matye iloc tye ka lworo pi abili ki mwony...\n",
            "143679      teo  Engarenon lo ipugai ekadakit kanu iyatar enaba...\n",
            "143680      lgg  Agu ofisi 'da ma alea niri eri asi otiza be ka...\n",
            "143681      nyn  Omwebembezi oriho obwahati, ayerarikiriire omu...\n",
            "\n",
            "[143682 rows x 2 columns]\n"
          ]
        }
      ],
      "source": [
        "import pandas as pd\n",
        "\n",
        "# Assuming the DataFrame is already loaded and named 'df'\n",
        "\n",
        "# Create a list to store the transformed data\n",
        "train_data = []\n",
        "\n",
        "# Iterate through each row in the DataFrame\n",
        "for index, row in df.iterrows():\n",
        "    text_dict = row['text']\n",
        "    for language, text in text_dict.items():\n",
        "        train_data.append({'Language': language, 'Text': text})\n",
        "\n",
        "# Create a new DataFrame from the transformed data\n",
        "train_df = pd.DataFrame(train_data)\n",
        "\n",
        "# Display the new DataFrame\n",
        "print(train_df)\n"
      ]
    },
    {
      "cell_type": "code",
      "execution_count": null,
      "metadata": {
        "colab": {
          "base_uri": "https://localhost:8080/"
        },
        "id": "D0TFvdoN8Aka",
        "outputId": "3a47ec6c-4d82-46cb-ea3f-c7b99d2d66c8"
      },
      "outputs": [
        {
          "data": {
            "text/plain": [
              "((100577,), (43105,))"
            ]
          },
          "execution_count": 9,
          "metadata": {},
          "output_type": "execute_result"
        }
      ],
      "source": [
        "from sklearn.model_selection import train_test_split\n",
        "\n",
        "X = train_df[\"Text\"]\n",
        "y = train_df[\"Language\"]\n",
        "\n",
        "#Split the data for training and testing\n",
        "X_train,X_test,y_train,y_test=train_test_split(X,y,test_size=0.3, random_state=42)\n",
        "X_train.shape, X_test.shape"
      ]
    },
    {
      "cell_type": "code",
      "execution_count": null,
      "metadata": {
        "colab": {
          "base_uri": "https://localhost:8080/",
          "height": 424
        },
        "id": "xnUWnudE9W6G",
        "outputId": "de665d53-7222-4377-e28d-95052d3e6621"
      },
      "outputs": [
        {
          "data": {
            "text/html": [
              "\n",
              "\n",
              "  <div id=\"df-d33227b9-c763-40e1-8ca3-18a7a8fe3dab\">\n",
              "    <div class=\"colab-df-container\">\n",
              "      <div>\n",
              "<style scoped>\n",
              "    .dataframe tbody tr th:only-of-type {\n",
              "        vertical-align: middle;\n",
              "    }\n",
              "\n",
              "    .dataframe tbody tr th {\n",
              "        vertical-align: top;\n",
              "    }\n",
              "\n",
              "    .dataframe thead th {\n",
              "        text-align: right;\n",
              "    }\n",
              "</style>\n",
              "<table border=\"1\" class=\"dataframe\">\n",
              "  <thead>\n",
              "    <tr style=\"text-align: right;\">\n",
              "      <th></th>\n",
              "      <th>Language</th>\n",
              "      <th>Text</th>\n",
              "    </tr>\n",
              "  </thead>\n",
              "  <tbody>\n",
              "    <tr>\n",
              "      <th>2</th>\n",
              "      <td>ach</td>\n",
              "      <td>Pe obedo kem goba goba</td>\n",
              "    </tr>\n",
              "    <tr>\n",
              "      <th>8</th>\n",
              "      <td>ach</td>\n",
              "      <td>Amito citi I taun I tum cabit.</td>\n",
              "    </tr>\n",
              "    <tr>\n",
              "      <th>14</th>\n",
              "      <td>ach</td>\n",
              "      <td>Atye ki peko me two pressure</td>\n",
              "    </tr>\n",
              "    <tr>\n",
              "      <th>20</th>\n",
              "      <td>ach</td>\n",
              "      <td>Mite ni ibed ki jami ma I mito timone mukwo I ...</td>\n",
              "    </tr>\n",
              "    <tr>\n",
              "      <th>26</th>\n",
              "      <td>ach</td>\n",
              "      <td>Obedo tic maber me konyo joo matye I peko</td>\n",
              "    </tr>\n",
              "    <tr>\n",
              "      <th>...</th>\n",
              "      <td>...</td>\n",
              "      <td>...</td>\n",
              "    </tr>\n",
              "    <tr>\n",
              "      <th>143654</th>\n",
              "      <td>ach</td>\n",
              "      <td>Magi weng otimme I kare me timo gin mo me laro...</td>\n",
              "    </tr>\n",
              "    <tr>\n",
              "      <th>143660</th>\n",
              "      <td>ach</td>\n",
              "      <td>Jo mapol gucang ki ki two korona I lobo Uganda.</td>\n",
              "    </tr>\n",
              "    <tr>\n",
              "      <th>143666</th>\n",
              "      <td>ach</td>\n",
              "      <td>Gamente obi miyo kom ki joo ma otegi</td>\n",
              "    </tr>\n",
              "    <tr>\n",
              "      <th>143672</th>\n",
              "      <td>ach</td>\n",
              "      <td>Tye jami mapol mamyero wange mapud pe wanyomme.</td>\n",
              "    </tr>\n",
              "    <tr>\n",
              "      <th>143678</th>\n",
              "      <td>ach</td>\n",
              "      <td>Ngat matye iloc tye ka lworo pi abili ki mwony...</td>\n",
              "    </tr>\n",
              "  </tbody>\n",
              "</table>\n",
              "<p>23947 rows × 2 columns</p>\n",
              "</div>\n",
              "      <button class=\"colab-df-convert\" onclick=\"convertToInteractive('df-d33227b9-c763-40e1-8ca3-18a7a8fe3dab')\"\n",
              "              title=\"Convert this dataframe to an interactive table.\"\n",
              "              style=\"display:none;\">\n",
              "\n",
              "  <svg xmlns=\"http://www.w3.org/2000/svg\" height=\"24px\"viewBox=\"0 0 24 24\"\n",
              "       width=\"24px\">\n",
              "    <path d=\"M0 0h24v24H0V0z\" fill=\"none\"/>\n",
              "    <path d=\"M18.56 5.44l.94 2.06.94-2.06 2.06-.94-2.06-.94-.94-2.06-.94 2.06-2.06.94zm-11 1L8.5 8.5l.94-2.06 2.06-.94-2.06-.94L8.5 2.5l-.94 2.06-2.06.94zm10 10l.94 2.06.94-2.06 2.06-.94-2.06-.94-.94-2.06-.94 2.06-2.06.94z\"/><path d=\"M17.41 7.96l-1.37-1.37c-.4-.4-.92-.59-1.43-.59-.52 0-1.04.2-1.43.59L10.3 9.45l-7.72 7.72c-.78.78-.78 2.05 0 2.83L4 21.41c.39.39.9.59 1.41.59.51 0 1.02-.2 1.41-.59l7.78-7.78 2.81-2.81c.8-.78.8-2.07 0-2.86zM5.41 20L4 18.59l7.72-7.72 1.47 1.35L5.41 20z\"/>\n",
              "  </svg>\n",
              "      </button>\n",
              "\n",
              "\n",
              "\n",
              "    <div id=\"df-83cc217c-cb3b-4f1d-bdaf-3511a67cd58a\">\n",
              "      <button class=\"colab-df-quickchart\" onclick=\"quickchart('df-83cc217c-cb3b-4f1d-bdaf-3511a67cd58a')\"\n",
              "              title=\"Suggest charts.\"\n",
              "              style=\"display:none;\">\n",
              "\n",
              "<svg xmlns=\"http://www.w3.org/2000/svg\" height=\"24px\"viewBox=\"0 0 24 24\"\n",
              "     width=\"24px\">\n",
              "    <g>\n",
              "        <path d=\"M19 3H5c-1.1 0-2 .9-2 2v14c0 1.1.9 2 2 2h14c1.1 0 2-.9 2-2V5c0-1.1-.9-2-2-2zM9 17H7v-7h2v7zm4 0h-2V7h2v10zm4 0h-2v-4h2v4z\"/>\n",
              "    </g>\n",
              "</svg>\n",
              "      </button>\n",
              "    </div>\n",
              "\n",
              "<style>\n",
              "  .colab-df-quickchart {\n",
              "    background-color: #E8F0FE;\n",
              "    border: none;\n",
              "    border-radius: 50%;\n",
              "    cursor: pointer;\n",
              "    display: none;\n",
              "    fill: #1967D2;\n",
              "    height: 32px;\n",
              "    padding: 0 0 0 0;\n",
              "    width: 32px;\n",
              "  }\n",
              "\n",
              "  .colab-df-quickchart:hover {\n",
              "    background-color: #E2EBFA;\n",
              "    box-shadow: 0px 1px 2px rgba(60, 64, 67, 0.3), 0px 1px 3px 1px rgba(60, 64, 67, 0.15);\n",
              "    fill: #174EA6;\n",
              "  }\n",
              "\n",
              "  [theme=dark] .colab-df-quickchart {\n",
              "    background-color: #3B4455;\n",
              "    fill: #D2E3FC;\n",
              "  }\n",
              "\n",
              "  [theme=dark] .colab-df-quickchart:hover {\n",
              "    background-color: #434B5C;\n",
              "    box-shadow: 0px 1px 3px 1px rgba(0, 0, 0, 0.15);\n",
              "    filter: drop-shadow(0px 1px 2px rgba(0, 0, 0, 0.3));\n",
              "    fill: #FFFFFF;\n",
              "  }\n",
              "</style>\n",
              "\n",
              "    <script>\n",
              "      async function quickchart(key) {\n",
              "        const containerElement = document.querySelector('#' + key);\n",
              "        const charts = await google.colab.kernel.invokeFunction(\n",
              "            'suggestCharts', [key], {});\n",
              "      }\n",
              "    </script>\n",
              "\n",
              "      <script>\n",
              "\n",
              "function displayQuickchartButton(domScope) {\n",
              "  let quickchartButtonEl =\n",
              "    domScope.querySelector('#df-83cc217c-cb3b-4f1d-bdaf-3511a67cd58a button.colab-df-quickchart');\n",
              "  quickchartButtonEl.style.display =\n",
              "    google.colab.kernel.accessAllowed ? 'block' : 'none';\n",
              "}\n",
              "\n",
              "        displayQuickchartButton(document);\n",
              "      </script>\n",
              "      <style>\n",
              "    .colab-df-container {\n",
              "      display:flex;\n",
              "      flex-wrap:wrap;\n",
              "      gap: 12px;\n",
              "    }\n",
              "\n",
              "    .colab-df-convert {\n",
              "      background-color: #E8F0FE;\n",
              "      border: none;\n",
              "      border-radius: 50%;\n",
              "      cursor: pointer;\n",
              "      display: none;\n",
              "      fill: #1967D2;\n",
              "      height: 32px;\n",
              "      padding: 0 0 0 0;\n",
              "      width: 32px;\n",
              "    }\n",
              "\n",
              "    .colab-df-convert:hover {\n",
              "      background-color: #E2EBFA;\n",
              "      box-shadow: 0px 1px 2px rgba(60, 64, 67, 0.3), 0px 1px 3px 1px rgba(60, 64, 67, 0.15);\n",
              "      fill: #174EA6;\n",
              "    }\n",
              "\n",
              "    [theme=dark] .colab-df-convert {\n",
              "      background-color: #3B4455;\n",
              "      fill: #D2E3FC;\n",
              "    }\n",
              "\n",
              "    [theme=dark] .colab-df-convert:hover {\n",
              "      background-color: #434B5C;\n",
              "      box-shadow: 0px 1px 3px 1px rgba(0, 0, 0, 0.15);\n",
              "      filter: drop-shadow(0px 1px 2px rgba(0, 0, 0, 0.3));\n",
              "      fill: #FFFFFF;\n",
              "    }\n",
              "  </style>\n",
              "\n",
              "      <script>\n",
              "        const buttonEl =\n",
              "          document.querySelector('#df-d33227b9-c763-40e1-8ca3-18a7a8fe3dab button.colab-df-convert');\n",
              "        buttonEl.style.display =\n",
              "          google.colab.kernel.accessAllowed ? 'block' : 'none';\n",
              "\n",
              "        async function convertToInteractive(key) {\n",
              "          const element = document.querySelector('#df-d33227b9-c763-40e1-8ca3-18a7a8fe3dab');\n",
              "          const dataTable =\n",
              "            await google.colab.kernel.invokeFunction('convertToInteractive',\n",
              "                                                     [key], {});\n",
              "          if (!dataTable) return;\n",
              "\n",
              "          const docLinkHtml = 'Like what you see? Visit the ' +\n",
              "            '<a target=\"_blank\" href=https://colab.research.google.com/notebooks/data_table.ipynb>data table notebook</a>'\n",
              "            + ' to learn more about interactive tables.';\n",
              "          element.innerHTML = '';\n",
              "          dataTable['output_type'] = 'display_data';\n",
              "          await google.colab.output.renderOutput(dataTable, element);\n",
              "          const docLink = document.createElement('div');\n",
              "          docLink.innerHTML = docLinkHtml;\n",
              "          element.appendChild(docLink);\n",
              "        }\n",
              "      </script>\n",
              "    </div>\n",
              "  </div>\n"
            ],
            "text/plain": [
              "       Language                                               Text\n",
              "2           ach                             Pe obedo kem goba goba\n",
              "8           ach                     Amito citi I taun I tum cabit.\n",
              "14          ach                       Atye ki peko me two pressure\n",
              "20          ach  Mite ni ibed ki jami ma I mito timone mukwo I ...\n",
              "26          ach          Obedo tic maber me konyo joo matye I peko\n",
              "...         ...                                                ...\n",
              "143654      ach  Magi weng otimme I kare me timo gin mo me laro...\n",
              "143660      ach    Jo mapol gucang ki ki two korona I lobo Uganda.\n",
              "143666      ach               Gamente obi miyo kom ki joo ma otegi\n",
              "143672      ach    Tye jami mapol mamyero wange mapud pe wanyomme.\n",
              "143678      ach  Ngat matye iloc tye ka lworo pi abili ki mwony...\n",
              "\n",
              "[23947 rows x 2 columns]"
            ]
          },
          "execution_count": 10,
          "metadata": {},
          "output_type": "execute_result"
        }
      ],
      "source": [
        "train_df[train_df[\"Language\"] == \"ach\"]"
      ]
    },
    {
      "cell_type": "code",
      "execution_count": null,
      "metadata": {
        "colab": {
          "base_uri": "https://localhost:8080/"
        },
        "id": "zOh4rC0L9E44",
        "outputId": "35e11d77-6cd1-4513-ccab-01c426ab0f6b"
      },
      "outputs": [
        {
          "data": {
            "text/plain": [
              "100540    lgg\n",
              "46198     lgg\n",
              "93058     lgg\n",
              "27754     lgg\n",
              "123730    lgg\n",
              "         ... \n",
              "82798     lgg\n",
              "35920     lgg\n",
              "84478     lgg\n",
              "54886     lgg\n",
              "131932    lgg\n",
              "Name: Language, Length: 16613, dtype: object"
            ]
          },
          "execution_count": 11,
          "metadata": {},
          "output_type": "execute_result"
        }
      ],
      "source": [
        "y_train[y_train == \"lgg\"]"
      ]
    },
    {
      "cell_type": "code",
      "execution_count": null,
      "metadata": {
        "id": "AMKxX1BS81Kp"
      },
      "outputs": [],
      "source": [
        "from sklearn.feature_extraction.text import TfidfVectorizer\n",
        "\n",
        "tfidf_vectorizer = TfidfVectorizer()\n",
        "X_train_tfidf = tfidf_vectorizer.fit_transform(X_train)\n",
        "X_test_tfidf = tfidf_vectorizer.transform(X_test)"
      ]
    },
    {
      "cell_type": "code",
      "execution_count": null,
      "metadata": {
        "colab": {
          "base_uri": "https://localhost:8080/"
        },
        "id": "j8DGGjILnaIx",
        "outputId": "e0336b0d-ee90-4d80-ffac-bc60ffa7a897"
      },
      "outputs": [
        {
          "name": "stdout",
          "output_type": "stream",
          "text": [
            "Ensemble Model:\n",
            "Accuracy: 0.9966129219348103\n",
            "              precision    recall  f1-score   support\n",
            "\n",
            "         ach       1.00      1.00      1.00      7127\n",
            "         eng       0.99      1.00      1.00      7085\n",
            "         lgg       1.00      1.00      1.00      7334\n",
            "         lug       0.99      0.99      0.99      7127\n",
            "         nyn       1.00      0.99      0.99      7216\n",
            "         teo       1.00      1.00      1.00      7216\n",
            "\n",
            "    accuracy                           1.00     43105\n",
            "   macro avg       1.00      1.00      1.00     43105\n",
            "weighted avg       1.00      1.00      1.00     43105\n",
            "\n"
          ]
        }
      ],
      "source": [
        "# Create the ensemble model with majority voting\n",
        "ensemble_model = VotingClassifier(\n",
        "    estimators=[\n",
        "        ('SVM', svm_model),\n",
        "        ('Naive Bayes', naive_bayes_model)\n",
        "    ],\n",
        "    voting='hard'  # Use 'hard' for majority voting\n",
        ")\n",
        "\n",
        "# Train the ensemble model on the training data\n",
        "ensemble_model.fit(X_train_tfidf, y_train)\n",
        "\n",
        "# Predict the language labels for the test set using the ensemble\n",
        "y_pred = ensemble_model.predict(X_test_tfidf)\n",
        "\n",
        "# Print the ensemble's performance (assuming you have true labels 'y_test')\n",
        "print(\"Ensemble Model:\")\n",
        "print(\"Accuracy:\", accuracy_score(y_test, y_pred))\n",
        "print(classification_report(y_test, y_pred))\n"
      ]
    },
    {
      "cell_type": "code",
      "execution_count": null,
      "metadata": {
        "colab": {
          "background_save": true
        },
        "id": "1FxVVv7Q-AZ9",
        "outputId": "a0cde7f5-e6ed-40b5-b49c-453c8aac6cce"
      },
      "outputs": [
        {
          "name": "stdout",
          "output_type": "stream",
          "text": [
            "Ensemble Model:\n",
            "Accuracy: 0.9966593202644705\n",
            "              precision    recall  f1-score   support\n",
            "\n",
            "         ach       1.00      1.00      1.00      7127\n",
            "         eng       1.00      1.00      1.00      7085\n",
            "         lgg       1.00      1.00      1.00      7334\n",
            "         lug       0.99      0.99      0.99      7127\n",
            "         nyn       0.99      0.99      0.99      7216\n",
            "         teo       1.00      1.00      1.00      7216\n",
            "\n",
            "    accuracy                           1.00     43105\n",
            "   macro avg       1.00      1.00      1.00     43105\n",
            "weighted avg       1.00      1.00      1.00     43105\n",
            "\n"
          ]
        }
      ],
      "source": [
        "from sklearn.svm import SVC\n",
        "svm_model = SVC(probability=True)  # Enable probability estimation for SVM\n",
        "\n",
        "# Create the ensemble model with soft voting\n",
        "ensemble_model = VotingClassifier(\n",
        "    estimators=[\n",
        "        ('SVM', svm_model),\n",
        "        ('Naive Bayes', naive_bayes_model)\n",
        "    ],\n",
        "    voting='soft'  # Use 'soft' for soft voting\n",
        ")\n",
        "\n",
        "# Train the ensemble model on the training data\n",
        "ensemble_model.fit(X_train_tfidf, y_train)\n",
        "\n",
        "# Predict the language labels for the test set using the ensemble\n",
        "y_pred = ensemble_model.predict(X_test_tfidf)\n",
        "\n",
        "# Print the ensemble's performance (assuming you have true labels 'y_test')\n",
        "print(\"Ensemble Model:\")\n",
        "print(\"Accuracy:\", accuracy_score(y_test, y_pred))\n",
        "print(classification_report(y_test, y_pred))"
      ]
    },
    {
      "cell_type": "code",
      "execution_count": null,
      "metadata": {
        "colab": {
          "background_save": true
        },
        "id": "Tl463GK9VkuO"
      },
      "outputs": [],
      "source": []
    }
  ],
  "metadata": {
    "colab": {
      "provenance": []
    },
    "kernelspec": {
      "display_name": "Python 3",
      "name": "python3"
    },
    "language_info": {
      "name": "python"
    }
  },
  "nbformat": 4,
  "nbformat_minor": 0
}